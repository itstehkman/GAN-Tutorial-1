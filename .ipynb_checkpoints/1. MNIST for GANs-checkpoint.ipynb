{
 "cells": [
  {
   "cell_type": "markdown",
   "metadata": {},
   "source": [
    "This follows the tutorial from https://www.oreilly.com/learning/generative-adversarial-networks-for-beginners"
   ]
  },
  {
   "cell_type": "code",
   "execution_count": 1,
   "metadata": {
    "collapsed": true
   },
   "outputs": [],
   "source": [
    "import tensorflow as tf\n",
    "import numpy as np\n",
    "import matplotlib.pyplot as plt\n",
    "%matplotlib inline"
   ]
  },
  {
   "cell_type": "code",
   "execution_count": 2,
   "metadata": {
    "collapsed": true
   },
   "outputs": [],
   "source": [
    "from tensorflow.examples.tutorials.mnist import input_data"
   ]
  },
  {
   "cell_type": "code",
   "execution_count": 3,
   "metadata": {},
   "outputs": [
    {
     "name": "stdout",
     "output_type": "stream",
     "text": [
      "Extracting mnist/train-images-idx3-ubyte.gz\n",
      "Extracting mnist/train-labels-idx1-ubyte.gz\n",
      "Extracting mnist/t10k-images-idx3-ubyte.gz\n",
      "Extracting mnist/t10k-labels-idx1-ubyte.gz\n"
     ]
    }
   ],
   "source": [
    "mnist = input_data.read_data_sets('mnist/')"
   ]
  },
  {
   "cell_type": "code",
   "execution_count": 4,
   "metadata": {
    "collapsed": true
   },
   "outputs": [],
   "source": [
    "X_train_b, Y_train_b = mnist.train.next_batch(25)"
   ]
  },
  {
   "cell_type": "markdown",
   "metadata": {},
   "source": [
    "## Helpers"
   ]
  },
  {
   "cell_type": "code",
   "execution_count": 18,
   "metadata": {
    "collapsed": true
   },
   "outputs": [],
   "source": [
    "def conv_layer(X, num_filters, num_input_channels, layer_num):\n",
    "    \"\"\"Creates and returns a convolutional layer by applying a 5x5 convolution, relu, then 2x2 max pooling\"\"\"\n",
    "    w = tf.get_variable('d_w%d' % layer_num, [5, 5, num_input_channels, num_filters],\n",
    "                        initializer = tf.truncated_normal_initializer(stddev=0.2))\n",
    "    b = tf.get_variable('d_b%d' % layer_num, [num_filters], initializer = tf.constant_initializer(0))\n",
    "    d = tf.nn.conv2d(X, w, strides=[1,1,1,1], padding='SAME') + b\n",
    "    d = tf.nn.relu(d)\n",
    "    d = tf.nn.max_pool(d, ksize=[1,2,2,1], strides=[1,2,2,1], padding='SAME')\n",
    "    return d"
   ]
  },
  {
   "cell_type": "code",
   "execution_count": 19,
   "metadata": {
    "collapsed": true
   },
   "outputs": [],
   "source": [
    "def fcl(X, input_size, num_neurons, layer_num):\n",
    "    \"\"\"Applies a fully connected layer, without the activation function\"\"\"\n",
    "    w = tf.get_variable('d_w%d' % layer_num, [input_size, num_neurons], \n",
    "                           initializer=tf.truncated_normal_initializer(stddev=0.02))\n",
    "    b = tf.get_variable('d_b%d' % layer_num, [num_neurons], initializer=tf.constant_initializer(0))\n",
    "    d = tf.matmul(X, w) + b\n",
    "    return d"
   ]
  },
  {
   "cell_type": "markdown",
   "metadata": {},
   "source": [
    "## Discriminator / Generator"
   ]
  },
  {
   "cell_type": "code",
   "execution_count": 20,
   "metadata": {
    "collapsed": true
   },
   "outputs": [],
   "source": [
    "def discriminator(X, reuse=False):\n",
    "    \"\"\"TODO: Batch Norm or Local Response Normalization, because relu is unbounded\"\"\"\n",
    "    if reuse:\n",
    "        tf.get_variable_scope().reuse_variables()\n",
    "    \n",
    "    # 32 filters of 5x5 (shape = (?, 14, 14, 32)). Then 64 filters of 5x5 (shape = (?, 7, 7, 64))\n",
    "    c0 = conv_layer(X, num_filters=32, num_input_channels=1, layer_num=0)\n",
    "    c1 = conv_layer(c0, num_filters=64, num_input_channels=32, layer_num=1)\n",
    "    \n",
    "    # resizes to [batch_size, dim]\n",
    "    c1 = tf.reshape(c1, [-1, 7*7*64])\n",
    "    fc_0 = tf.nn.relu(fcl(c1, 7*7 *64, num_neurons=1024, layer_num=2))\n",
    "    # TODO: why don't we sigmoid the last layer?\n",
    "    fc_1 = fcl(fc_0, 1024, num_neurons=1, layer_num=3)\n",
    "    \n",
    "    return fc_1\n"
   ]
  },
  {
   "cell_type": "code",
   "execution_count": 21,
   "metadata": {
    "collapsed": true
   },
   "outputs": [],
   "source": [
    "def generator(U):\n",
    "    \"\"\"\"\"\"\n",
    "    batch_size, dims = U.shape[0], U.shape[1]\n",
    "    g_w0 = tf.get_variable('g_w0', [dims, 56*56], dtype=tf.float32, \n",
    "                           initializer=tf.truncated_normal_initializer(stddev=0.2))\n",
    "    g_b0 = tf.get_variable('g_b0', [56*56], dtype=tf.float32, initializer=tf.constant_initializer(0))\n",
    "    g0 = tf.matmul(U, g_w0) + g_b0\n",
    "    g0 = tf.reshape(g0, [-1, 56, 56, 1])\n",
    "    g0 = tf.nn.relu(g0)\n",
    "    g0 = tf.contrib.layers.batch_norm(g0, epsilon=1e-5)\n",
    "    \n",
    "    # Generate 50 features using 3x3 convolution on the 56x56 image\n",
    "    g_w1 = tf.get_variable('g_w1', [3, 3, 1, 50], dtype=tf.float32, \n",
    "                           initializer=tf.truncated_normal_initializer(stddev=0.2))\n",
    "    g_b1 = tf.get_variable('g_b1', [50], dtype=tf.float32, initializer=tf.constant_initializer(0))\n",
    "    g1 = tf.nn.conv2d(g0, g_w1, strides=[1,2,2,1], padding='SAME')\n",
    "    g1 = g1 + g_b1\n",
    "    g1 = tf.nn.relu(g1)  \n",
    "    # g1.shape -> (?, 28, 28, 50)\n",
    "    g1 = tf.contrib.layers.batch_norm(g1, epsilon=1e-5) \n",
    "    # uses bilinear interpolation to resize 28x28 -> 56x56\n",
    "    g1 = tf.image.resize_images(g1, [56, 56])\n",
    "    \n",
    "    # Generate 25 features using 3x3 convolution on the 56x56 image\n",
    "    g_w2 = tf.get_variable('g_w2', [3, 3, 50, 25], dtype=tf.float32, \n",
    "                           initializer=tf.truncated_normal_initializer(stddev=0.2))\n",
    "    g_b2 = tf.get_variable('g_b2', [25], dtype=tf.float32, initializer=tf.constant_initializer(0))\n",
    "    g2 = tf.nn.conv2d(g1, g_w2, strides=[1,2,2,1], padding='SAME')\n",
    "    g2 = g2 + g_b2\n",
    "    g2 = tf.nn.relu(g2)  \n",
    "    # g1.shape -> (1, 28, 28, 50)\n",
    "    g2 = tf.contrib.layers.batch_norm(g2, epsilon=1e-5) \n",
    "    # uses bilinear interpolation to resize 28x28 -> 56x56\n",
    "    g2 = tf.image.resize_images(g2, [56, 56])\n",
    "    \n",
    "    # Final convolution with 1 output channel\n",
    "    g_w3 = tf.get_variable('g_w3', [1, 1, 25, 1], dtype=tf.float32, \n",
    "                           initializer=tf.truncated_normal_initializer(stddev=0.2))\n",
    "    g_b3 = tf.get_variable('g_b3', [1], dtype=tf.float32, initializer=tf.constant_initializer(0))\n",
    "    g3 = tf.nn.conv2d(g2, g_w3, strides=[1,2,2,1], padding='SAME')\n",
    "    g3 = g3 + g_b3\n",
    "    g3 = tf.sigmoid(g3)\n",
    "    \n",
    "    return g3"
   ]
  },
  {
   "cell_type": "markdown",
   "metadata": {},
   "source": [
    "## Computation Graph"
   ]
  },
  {
   "cell_type": "code",
   "execution_count": 22,
   "metadata": {
    "collapsed": true
   },
   "outputs": [],
   "source": [
    "tf.reset_default_graph()\n",
    "U_placeholder = tf.placeholder(tf.float32, [None, 100])\n",
    "X_placeholder = tf.placeholder(tf.float32, [None, 28, 28, 1])\n",
    "\n",
    "with tf.variable_scope('gen_dis_scope'):\n",
    "    Gu = generator(U_placeholder)\n",
    "    Dx = discriminator(X_placeholder, reuse=False)\n",
    "    # reuse same variables as Dx discriminator\n",
    "    Dg = discriminator(Gu, reuse=True)"
   ]
  },
  {
   "cell_type": "code",
   "execution_count": 23,
   "metadata": {},
   "outputs": [
    {
     "data": {
      "image/png": "[encoded data removed]",
      "text/plain": [
       "<matplotlib.figure.Figure at 0x11d6e41d0>"
      ]
     },
     "metadata": {},
     "output_type": "display_data"
    }
   ],
   "source": [
    "# Lets view a generated image...\n",
    "with tf.Session() as sess:\n",
    "    sess.run(tf.global_variables_initializer())\n",
    "    U = np.random.normal(0, 1, [1, 100])\n",
    "    gen_img = sess.run(Gu, feed_dict = {U_placeholder: U})\n",
    "    gen_img = gen_img.reshape([28, 28])\n",
    "    plt.imshow(gen_img, cmap='Greys')"
   ]
  },
  {
   "cell_type": "code",
   "execution_count": 24,
   "metadata": {
    "collapsed": true
   },
   "outputs": [],
   "source": [
    "# Loss functions\n",
    "d_loss_real = tf.reduce_mean(tf.nn.sigmoid_cross_entropy_with_logits(logits=Dx, labels=tf.ones_like(Dx)))\n",
    "d_loss_fake = tf.reduce_mean(tf.nn.sigmoid_cross_entropy_with_logits(logits=Dg, labels=tf.zeros_like(Dg)))\n",
    "g_loss = tf.reduce_mean(tf.nn.sigmoid_cross_entropy_with_logits(logits=Dg, labels=tf.ones_like(Dg)))"
   ]
  },
  {
   "cell_type": "code",
   "execution_count": 25,
   "metadata": {},
   "outputs": [
    {
     "name": "stdout",
     "output_type": "stream",
     "text": [
      "[u'gen_dis_scope/d_w0:0', u'gen_dis_scope/d_b0:0', u'gen_dis_scope/d_w1:0', u'gen_dis_scope/d_b1:0', u'gen_dis_scope/d_w2:0', u'gen_dis_scope/d_b2:0', u'gen_dis_scope/d_w3:0', u'gen_dis_scope/d_b3:0']\n",
      "[u'gen_dis_scope/g_w0:0', u'gen_dis_scope/g_b0:0', u'gen_dis_scope/g_w1:0', u'gen_dis_scope/g_b1:0', u'gen_dis_scope/g_w2:0', u'gen_dis_scope/g_b2:0', u'gen_dis_scope/g_w3:0', u'gen_dis_scope/g_b3:0']\n"
     ]
    }
   ],
   "source": [
    "# Optimizers\n",
    "trainable_vars = tf.trainable_variables()\n",
    "d_vars = [var for var in trainable_vars if 'd_' in var.name]\n",
    "g_vars = [var for var in trainable_vars if 'g_' in var.name]\n",
    "\n",
    "print [var.name for var in d_vars]\n",
    "print [var.name for var in g_vars]\n",
    "\n",
    "# be careful, AdamOptimizer creates its own vars for memory, and could play poorly with reuse \n",
    "# (https://stackoverflow.com/questions/42603702/variable-scope-causes-variable-does-not-exist-with-optimizer)\n",
    "d_optimizer = tf.train.AdamOptimizer(0.0003).minimize(d_loss_real + d_loss_fake, var_list=d_vars)\n",
    "g_optimizer = tf.train.AdamOptimizer(0.0001).minimize(g_loss, var_list=g_vars)"
   ]
  },
  {
   "cell_type": "markdown",
   "metadata": {},
   "source": [
    "## Prep for Tensorboard"
   ]
  },
  {
   "cell_type": "code",
   "execution_count": 27,
   "metadata": {
    "collapsed": true
   },
   "outputs": [],
   "source": [
    "# From this point forward, reuse variables\n",
    "import datetime\n",
    "tf.get_variable_scope().reuse_variables()\n",
    "\n",
    "tf.summary.scalar('Generator_loss', g_loss)\n",
    "tf.summary.scalar('Discriminator_loss_real', d_loss_real)\n",
    "tf.summary.scalar('Discriminator_loss_fake', d_loss_fake)\n",
    "with tf.variable_scope('gen_dis_scope'):\n",
    "    images_for_tensorboard = generator(U_placeholder)\n",
    "tf.summary.image('Generated_images', images_for_tensorboard, 5)\n",
    "merged = tf.summary.merge_all()\n",
    "logdir = \"tensorboard/\" + datetime.datetime.now().strftime(\"%Y%m%d-%H%M%S\") + \"/\"\n",
    "writer = tf.summary.FileWriter(logdir, sess.graph)"
   ]
  },
  {
   "cell_type": "code",
   "execution_count": 57,
   "metadata": {},
   "outputs": [
    {
     "name": "stdout",
     "output_type": "stream",
     "text": [
      "('./model-500', 500)\n"
     ]
    }
   ],
   "source": [
    "def get_model_filepath(model_dir):\n",
    "    \"\"\"Returns (the most recent model filepath, step_count)\"\"\"\n",
    "    import os\n",
    "    model_nums = {int(f.split('.')[0].split('-')[-1]) for f in os.listdir(model_dir) if f.startswith('model-')}\n",
    "    if model_nums:\n",
    "        while model_dir[-1] == '/':\n",
    "            model_dir = model_dir[:-1]\n",
    "        return '%s/model-%d' % (model_dir, max(model_nums)), max(model_nums)\n",
    "print get_model_filepath('.')"
   ]
  },
  {
   "cell_type": "markdown",
   "metadata": {},
   "source": [
    "## Train!"
   ]
  },
  {
   "cell_type": "code",
   "execution_count": 59,
   "metadata": {},
   "outputs": [
    {
     "name": "stdout",
     "output_type": "stream",
     "text": [
      "INFO:tensorflow:Restoring parameters from ./model-999\n"
     ]
    },
    {
     "data": {
      "image/png": "[encoded data removed]",
      "text/plain": [
       "<matplotlib.figure.Figure at 0x11e4baf90>"
      ]
     },
     "metadata": {},
     "output_type": "display_data"
    },
    {
     "data": {
      "image/png": "[encoded data removed]",
      "text/plain": [
       "<matplotlib.figure.Figure at 0x118bf2790>"
      ]
     },
     "metadata": {},
     "output_type": "display_data"
    },
    {
     "data": {
      "image/png": "[encoded data removed]",
      "text/plain": [
       "<matplotlib.figure.Figure at 0x11e5a58d0>"
      ]
     },
     "metadata": {},
     "output_type": "display_data"
    },
    {
     "data": {
      "image/png": "[encoded data removed]",
      "text/plain": [
       "<matplotlib.figure.Figure at 0x118bf2410>"
      ]
     },
     "metadata": {},
     "output_type": "display_data"
    },
    {
     "data": {
      "image/png": "[encoded data removed]",
      "text/plain": [
       "<matplotlib.figure.Figure at 0x11abe50d0>"
      ]
     },
     "metadata": {},
     "output_type": "display_data"
    },
    {
     "data": {
      "image/png": "[encoded data removed]",
      "text/plain": [
       "<matplotlib.figure.Figure at 0x119a460d0>"
      ]
     },
     "metadata": {},
     "output_type": "display_data"
    },
    {
     "data": {
      "image/png": "[encoded data removed]",
      "text/plain": [
       "<matplotlib.figure.Figure at 0x11d6e1c10>"
      ]
     },
     "metadata": {},
     "output_type": "display_data"
    },
    {
     "data": {
      "image/png": "[encoded data removed]",
      "text/plain": [
       "<matplotlib.figure.Figure at 0x10cbddd50>"
      ]
     },
     "metadata": {},
     "output_type": "display_data"
    },
    {
     "ename": "KeyboardInterrupt",
     "evalue": "",
     "output_type": "error",
     "traceback": [
      "\u001b[0;31m---------------------------------------------------------------------------\u001b[0m",
      "\u001b[0;31mKeyboardInterrupt\u001b[0m                         Traceback (most recent call last)",
      "\u001b[0;32m<ipython-input-59-e920f9b4bc28>\u001b[0m in \u001b[0;36m<module>\u001b[0;34m()\u001b[0m\n\u001b[1;32m     20\u001b[0m         \u001b[0;32mif\u001b[0m \u001b[0mi\u001b[0m \u001b[0;34m>=\u001b[0m \u001b[0;36m100\u001b[0m\u001b[0;34m:\u001b[0m\u001b[0;34m\u001b[0m\u001b[0m\n\u001b[1;32m     21\u001b[0m             \u001b[0mu_batch\u001b[0m \u001b[0;34m=\u001b[0m \u001b[0mnp\u001b[0m\u001b[0;34m.\u001b[0m\u001b[0mrandom\u001b[0m\u001b[0;34m.\u001b[0m\u001b[0mnormal\u001b[0m\u001b[0;34m(\u001b[0m\u001b[0;36m0\u001b[0m\u001b[0;34m,\u001b[0m \u001b[0;36m1\u001b[0m\u001b[0;34m,\u001b[0m \u001b[0;34m[\u001b[0m\u001b[0mbatch_size\u001b[0m\u001b[0;34m,\u001b[0m \u001b[0;36m100\u001b[0m\u001b[0;34m]\u001b[0m\u001b[0;34m)\u001b[0m\u001b[0;34m\u001b[0m\u001b[0m\n\u001b[0;32m---> 22\u001b[0;31m             \u001b[0m_\u001b[0m\u001b[0;34m,\u001b[0m \u001b[0mg_loss_val\u001b[0m \u001b[0;34m=\u001b[0m \u001b[0msess\u001b[0m\u001b[0;34m.\u001b[0m\u001b[0mrun\u001b[0m\u001b[0;34m(\u001b[0m\u001b[0;34m[\u001b[0m\u001b[0mg_optimizer\u001b[0m\u001b[0;34m,\u001b[0m \u001b[0mg_loss\u001b[0m\u001b[0;34m]\u001b[0m\u001b[0;34m,\u001b[0m \u001b[0mfeed_dict\u001b[0m\u001b[0;34m=\u001b[0m\u001b[0;34m{\u001b[0m\u001b[0mU_placeholder\u001b[0m\u001b[0;34m:\u001b[0m \u001b[0mu_batch\u001b[0m\u001b[0;34m}\u001b[0m\u001b[0;34m)\u001b[0m\u001b[0;34m\u001b[0m\u001b[0m\n\u001b[0m\u001b[1;32m     23\u001b[0m         \u001b[0;31m# Update tensorboard\u001b[0m\u001b[0;34m\u001b[0m\u001b[0;34m\u001b[0m\u001b[0m\n\u001b[1;32m     24\u001b[0m         \u001b[0;32mif\u001b[0m \u001b[0mi\u001b[0m \u001b[0;34m%\u001b[0m \u001b[0;36m10\u001b[0m \u001b[0;34m==\u001b[0m \u001b[0;36m0\u001b[0m\u001b[0;34m:\u001b[0m\u001b[0;34m\u001b[0m\u001b[0m\n",
      "\u001b[0;32m/usr/local/lib/python2.7/site-packages/tensorflow/python/client/session.pyc\u001b[0m in \u001b[0;36mrun\u001b[0;34m(self, fetches, feed_dict, options, run_metadata)\u001b[0m\n\u001b[1;32m    787\u001b[0m     \u001b[0;32mtry\u001b[0m\u001b[0;34m:\u001b[0m\u001b[0;34m\u001b[0m\u001b[0m\n\u001b[1;32m    788\u001b[0m       result = self._run(None, fetches, feed_dict, options_ptr,\n\u001b[0;32m--> 789\u001b[0;31m                          run_metadata_ptr)\n\u001b[0m\u001b[1;32m    790\u001b[0m       \u001b[0;32mif\u001b[0m \u001b[0mrun_metadata\u001b[0m\u001b[0;34m:\u001b[0m\u001b[0;34m\u001b[0m\u001b[0m\n\u001b[1;32m    791\u001b[0m         \u001b[0mproto_data\u001b[0m \u001b[0;34m=\u001b[0m \u001b[0mtf_session\u001b[0m\u001b[0;34m.\u001b[0m\u001b[0mTF_GetBuffer\u001b[0m\u001b[0;34m(\u001b[0m\u001b[0mrun_metadata_ptr\u001b[0m\u001b[0;34m)\u001b[0m\u001b[0;34m\u001b[0m\u001b[0m\n",
      "\u001b[0;32m/usr/local/lib/python2.7/site-packages/tensorflow/python/client/session.pyc\u001b[0m in \u001b[0;36m_run\u001b[0;34m(self, handle, fetches, feed_dict, options, run_metadata)\u001b[0m\n\u001b[1;32m    995\u001b[0m     \u001b[0;32mif\u001b[0m \u001b[0mfinal_fetches\u001b[0m \u001b[0;32mor\u001b[0m \u001b[0mfinal_targets\u001b[0m\u001b[0;34m:\u001b[0m\u001b[0;34m\u001b[0m\u001b[0m\n\u001b[1;32m    996\u001b[0m       results = self._do_run(handle, final_targets, final_fetches,\n\u001b[0;32m--> 997\u001b[0;31m                              feed_dict_string, options, run_metadata)\n\u001b[0m\u001b[1;32m    998\u001b[0m     \u001b[0;32melse\u001b[0m\u001b[0;34m:\u001b[0m\u001b[0;34m\u001b[0m\u001b[0m\n\u001b[1;32m    999\u001b[0m       \u001b[0mresults\u001b[0m \u001b[0;34m=\u001b[0m \u001b[0;34m[\u001b[0m\u001b[0;34m]\u001b[0m\u001b[0;34m\u001b[0m\u001b[0m\n",
      "\u001b[0;32m/usr/local/lib/python2.7/site-packages/tensorflow/python/client/session.pyc\u001b[0m in \u001b[0;36m_do_run\u001b[0;34m(self, handle, target_list, fetch_list, feed_dict, options, run_metadata)\u001b[0m\n\u001b[1;32m   1130\u001b[0m     \u001b[0;32mif\u001b[0m \u001b[0mhandle\u001b[0m \u001b[0;32mis\u001b[0m \u001b[0mNone\u001b[0m\u001b[0;34m:\u001b[0m\u001b[0;34m\u001b[0m\u001b[0m\n\u001b[1;32m   1131\u001b[0m       return self._do_call(_run_fn, self._session, feed_dict, fetch_list,\n\u001b[0;32m-> 1132\u001b[0;31m                            target_list, options, run_metadata)\n\u001b[0m\u001b[1;32m   1133\u001b[0m     \u001b[0;32melse\u001b[0m\u001b[0;34m:\u001b[0m\u001b[0;34m\u001b[0m\u001b[0m\n\u001b[1;32m   1134\u001b[0m       return self._do_call(_prun_fn, self._session, handle, feed_dict,\n",
      "\u001b[0;32m/usr/local/lib/python2.7/site-packages/tensorflow/python/client/session.pyc\u001b[0m in \u001b[0;36m_do_call\u001b[0;34m(self, fn, *args)\u001b[0m\n\u001b[1;32m   1137\u001b[0m   \u001b[0;32mdef\u001b[0m \u001b[0m_do_call\u001b[0m\u001b[0;34m(\u001b[0m\u001b[0mself\u001b[0m\u001b[0;34m,\u001b[0m \u001b[0mfn\u001b[0m\u001b[0;34m,\u001b[0m \u001b[0;34m*\u001b[0m\u001b[0margs\u001b[0m\u001b[0;34m)\u001b[0m\u001b[0;34m:\u001b[0m\u001b[0;34m\u001b[0m\u001b[0m\n\u001b[1;32m   1138\u001b[0m     \u001b[0;32mtry\u001b[0m\u001b[0;34m:\u001b[0m\u001b[0;34m\u001b[0m\u001b[0m\n\u001b[0;32m-> 1139\u001b[0;31m       \u001b[0;32mreturn\u001b[0m \u001b[0mfn\u001b[0m\u001b[0;34m(\u001b[0m\u001b[0;34m*\u001b[0m\u001b[0margs\u001b[0m\u001b[0;34m)\u001b[0m\u001b[0;34m\u001b[0m\u001b[0m\n\u001b[0m\u001b[1;32m   1140\u001b[0m     \u001b[0;32mexcept\u001b[0m \u001b[0merrors\u001b[0m\u001b[0;34m.\u001b[0m\u001b[0mOpError\u001b[0m \u001b[0;32mas\u001b[0m \u001b[0me\u001b[0m\u001b[0;34m:\u001b[0m\u001b[0;34m\u001b[0m\u001b[0m\n\u001b[1;32m   1141\u001b[0m       \u001b[0mmessage\u001b[0m \u001b[0;34m=\u001b[0m \u001b[0mcompat\u001b[0m\u001b[0;34m.\u001b[0m\u001b[0mas_text\u001b[0m\u001b[0;34m(\u001b[0m\u001b[0me\u001b[0m\u001b[0;34m.\u001b[0m\u001b[0mmessage\u001b[0m\u001b[0;34m)\u001b[0m\u001b[0;34m\u001b[0m\u001b[0m\n",
      "\u001b[0;32m/usr/local/lib/python2.7/site-packages/tensorflow/python/client/session.pyc\u001b[0m in \u001b[0;36m_run_fn\u001b[0;34m(session, feed_dict, fetch_list, target_list, options, run_metadata)\u001b[0m\n\u001b[1;32m   1119\u001b[0m         return tf_session.TF_Run(session, options,\n\u001b[1;32m   1120\u001b[0m                                  \u001b[0mfeed_dict\u001b[0m\u001b[0;34m,\u001b[0m \u001b[0mfetch_list\u001b[0m\u001b[0;34m,\u001b[0m \u001b[0mtarget_list\u001b[0m\u001b[0;34m,\u001b[0m\u001b[0;34m\u001b[0m\u001b[0m\n\u001b[0;32m-> 1121\u001b[0;31m                                  status, run_metadata)\n\u001b[0m\u001b[1;32m   1122\u001b[0m \u001b[0;34m\u001b[0m\u001b[0m\n\u001b[1;32m   1123\u001b[0m     \u001b[0;32mdef\u001b[0m \u001b[0m_prun_fn\u001b[0m\u001b[0;34m(\u001b[0m\u001b[0msession\u001b[0m\u001b[0;34m,\u001b[0m \u001b[0mhandle\u001b[0m\u001b[0;34m,\u001b[0m \u001b[0mfeed_dict\u001b[0m\u001b[0;34m,\u001b[0m \u001b[0mfetch_list\u001b[0m\u001b[0;34m)\u001b[0m\u001b[0;34m:\u001b[0m\u001b[0;34m\u001b[0m\u001b[0m\n",
      "\u001b[0;31mKeyboardInterrupt\u001b[0m: "
     ]
    }
   ],
   "source": [
    "batch_size = 50\n",
    "model_dir = './models/curr'\n",
    "use_model_filepath = True\n",
    "step = 0\n",
    "saver = tf.train.Saver()\n",
    "\n",
    "with tf.Session() as sess:\n",
    "    sess.run(tf.global_variables_initializer())\n",
    "    if use_model_filepath:\n",
    "        model_filepath, step = get_model_filepath(model_dir)\n",
    "        saver.restore(sess, model_filepath)\n",
    "    for i in range(step, step+1000):\n",
    "        train_batch = mnist.train.next_batch(batch_size)\n",
    "        x_train_batch = train_batch[0].reshape([-1,28,28,1])\n",
    "        u_batch = np.random.normal(0, 1, [batch_size, 100])\n",
    "        # train discriminator\n",
    "        if i >= 0:\n",
    "            _, d_loss_real_val, d_loss_fake_val = sess.run([d_optimizer, d_loss_real, d_loss_fake], \n",
    "                                                               feed_dict={X_placeholder: x_train_batch, U_placeholder: u_batch})\n",
    "        # train generator\n",
    "        if i >= 300:\n",
    "            u_batch = np.random.normal(0, 1, [batch_size, 100])\n",
    "            _, g_loss_val = sess.run([g_optimizer, g_loss], feed_dict={U_placeholder: u_batch})\n",
    "        # Update tensorboard\n",
    "        if i % 10 == 0:\n",
    "            u_batch = np.random.normal(0, 1, [batch_size, 100])\n",
    "            summary = sess.run(merged, feed_dict={X_placeholder: x_train_batch, U_placeholder: u_batch})\n",
    "            writer.add_summary(summary, i)\n",
    "        if i % 100 == 0:\n",
    "            u_batch = np.random.normal(0, 1, [batch_size, 100])\n",
    "            img = sess.run(Gu, feed_dict={U_placeholder: u_batch})\n",
    "            plt.imshow(img[0].reshape([28,28]), cmap='Greys')\n",
    "            plt.show()\n",
    "        # Save model to disk\n",
    "        if (i+1) % 500 == 0:\n",
    "            saver.save(sess, '%s/model' % model_dir, global_step=i)"
   ]
  }
 ],
 "metadata": {
  "kernelspec": {
   "display_name": "Python 2",
   "language": "python",
   "name": "python2"
  },
  "language_info": {
   "codemirror_mode": {
    "name": "ipython",
    "version": 2
   },
   "file_extension": ".py",
   "mimetype": "text/x-python",
   "name": "python",
   "nbconvert_exporter": "python",
   "pygments_lexer": "ipython2",
   "version": "2.7.13"
  }
 },
 "nbformat": 4,
 "nbformat_minor": 2
}
