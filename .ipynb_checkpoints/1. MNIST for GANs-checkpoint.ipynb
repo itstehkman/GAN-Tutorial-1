{
 "cells": [
  {
   "cell_type": "markdown",
   "metadata": {},
   "source": [
    "This follows the tutorial from https://www.oreilly.com/learning/generative-adversarial-networks-for-beginners"
   ]
  },
  {
   "cell_type": "code",
   "execution_count": 1,
   "metadata": {
    "collapsed": true
   },
   "outputs": [],
   "source": [
    "import tensorflow as tf\n",
    "import numpy as np\n",
    "import matplotlib.pyplot as plt\n",
    "%matplotlib inline"
   ]
  },
  {
   "cell_type": "code",
   "execution_count": 2,
   "metadata": {
    "collapsed": true
   },
   "outputs": [],
   "source": [
    "from tensorflow.examples.tutorials.mnist import input_data"
   ]
  },
  {
   "cell_type": "code",
   "execution_count": 3,
   "metadata": {},
   "outputs": [
    {
     "name": "stdout",
     "output_type": "stream",
     "text": [
      "Extracting mnist/train-images-idx3-ubyte.gz\n",
      "Extracting mnist/train-labels-idx1-ubyte.gz\n",
      "Extracting mnist/t10k-images-idx3-ubyte.gz\n",
      "Extracting mnist/t10k-labels-idx1-ubyte.gz\n"
     ]
    }
   ],
   "source": [
    "mnist = input_data.read_data_sets('mnist/')"
   ]
  },
  {
   "cell_type": "code",
   "execution_count": 4,
   "metadata": {
    "collapsed": true
   },
   "outputs": [],
   "source": [
    "X_train_b, Y_train_b = mnist.train.next_batch(25)"
   ]
  },
  {
   "cell_type": "markdown",
   "metadata": {},
   "source": [
    "## Helpers"
   ]
  },
  {
   "cell_type": "code",
   "execution_count": 134,
   "metadata": {
    "collapsed": true
   },
   "outputs": [],
   "source": [
    "def conv_layer(X, num_filters, num_input_channels, layer_num):\n",
    "    \"\"\"Creates and returns a convolutional layer by applying a 5x5 convolution, relu, then 2x2 max pooling\"\"\"\n",
    "    w = tf.get_variable('d_w%d' % layer_num, [5, 5, num_input_channels, num_filters],\n",
    "                        initializer = tf.truncated_normal_initializer(stddev=0.2))\n",
    "    b = tf.get_variable('d_b%d' % layer_num, [num_filters], initializer = tf.constant_initializer(0))\n",
    "    d = tf.nn.conv2d(X, w, strides=[1,1,1,1], padding='SAME') + b\n",
    "    d = tf.nn.relu(d)\n",
    "    d = tf.nn.avg_pool(d, ksize=[1,2,2,1], strides=[1,2,2,1], padding='SAME')\n",
    "    return d"
   ]
  },
  {
   "cell_type": "code",
   "execution_count": 6,
   "metadata": {
    "collapsed": true
   },
   "outputs": [],
   "source": [
    "def fcl(X, input_size, num_neurons, layer_num):\n",
    "    \"\"\"Applies a fully connected layer, without the activation function\"\"\"\n",
    "    w = tf.get_variable('d_w%d' % layer_num, [input_size, num_neurons], \n",
    "                           initializer=tf.truncated_normal_initializer(stddev=0.02))\n",
    "    b = tf.get_variable('d_b%d' % layer_num, [num_neurons], initializer=tf.constant_initializer(0))\n",
    "    d = tf.matmul(X, w) + b\n",
    "    return d"
   ]
  },
  {
   "cell_type": "markdown",
   "metadata": {},
   "source": [
    "## Discriminator / Generator"
   ]
  },
  {
   "cell_type": "code",
   "execution_count": 100,
   "metadata": {
    "collapsed": true
   },
   "outputs": [],
   "source": [
    "def discriminator(X, reuse=False):\n",
    "    \"\"\"TODO: Batch Norm or Local Response Normalization, because relu is unbounded\"\"\"\n",
    "    if reuse:\n",
    "        tf.get_variable_scope().reuse_variables()\n",
    "    \n",
    "    # 32 filters of 5x5 (shape = (?, 14, 14, 32)). Then 64 filters of 5x5 (shape = (?, 7, 7, 64))\n",
    "    c0 = conv_layer(X, num_filters=32, num_input_channels=1, layer_num=0)\n",
    "    c1 = conv_layer(c0, num_filters=64, num_input_channels=32, layer_num=1)\n",
    "    \n",
    "    # resizes to [batch_size, dim]\n",
    "    c1 = tf.reshape(c1, [-1, 7*7*64])\n",
    "    fc_0 = tf.nn.relu(fcl(c1, 7*7 *64, num_neurons=1024, layer_num=2))\n",
    "    # TODO: why don't we sigmoid the last layer?\n",
    "    fc_1 = fcl(fc_0, 1024, num_neurons=1, layer_num=3)\n",
    "    \n",
    "    return fc_1\n"
   ]
  },
  {
   "cell_type": "code",
   "execution_count": 126,
   "metadata": {},
   "outputs": [],
   "source": [
    "def generator(U):\n",
    "    \"\"\"\"\"\"\n",
    "    batch_size, dims = U.shape[0], U.shape[1]\n",
    "    g_w0 = tf.get_variable('g_w0', [dims, 56*56], dtype=tf.float32, \n",
    "                           initializer=tf.truncated_normal_initializer(stddev=0.2))\n",
    "    g_b0 = tf.get_variable('g_b0', [56*56], dtype=tf.float32, initializer=tf.constant_initializer(0))\n",
    "    g0 = tf.matmul(U, g_w0) + g_b0\n",
    "    g0 = tf.reshape(g0, [-1, 56, 56, 1])\n",
    "    g0 = tf.nn.relu(g0)\n",
    "    g0 = tf.contrib.layers.batch_norm(g0, epsilon=1e-5)\n",
    "    \n",
    "    # Generate 50 features using 3x3 convolution on the 56x56 image\n",
    "    g_w1 = tf.get_variable('g_w1', [3, 3, 1, 50], dtype=tf.float32, \n",
    "                           initializer=tf.truncated_normal_initializer(stddev=0.2))\n",
    "    g_b1 = tf.get_variable('g_b1', [50], dtype=tf.float32, initializer=tf.constant_initializer(0))\n",
    "    g1 = tf.nn.conv2d(g0, g_w1, strides=[1,2,2,1], padding='SAME')\n",
    "    g1 = g1 + g_b1\n",
    "    g1 = tf.nn.relu(g1)  \n",
    "    # g1.shape -> (?, 28, 28, 50)\n",
    "    g1 = tf.contrib.layers.batch_norm(g1, epsilon=1e-5) \n",
    "    # uses bilinear interpolation to resize 28x28 -> 56x56\n",
    "    g1 = tf.image.resize_images(g1, [56, 56])\n",
    "    \n",
    "    # Generate 25 features using 3x3 convolution on the 56x56 image\n",
    "    g_w2 = tf.get_variable('g_w2', [3, 3, 50, 25], dtype=tf.float32, \n",
    "                           initializer=tf.truncated_normal_initializer(stddev=0.2))\n",
    "    g_b2 = tf.get_variable('g_b2', [25], dtype=tf.float32, initializer=tf.constant_initializer(0))\n",
    "    g2 = tf.nn.conv2d(g1, g_w2, strides=[1,2,2,1], padding='SAME')\n",
    "    g2 = g2 + g_b2\n",
    "    g2 = tf.nn.relu(g2)  \n",
    "    # g1.shape -> (1, 28, 28, 50)\n",
    "    g2 = tf.contrib.layers.batch_norm(g2, epsilon=1e-5) \n",
    "    # uses bilinear interpolation to resize 28x28 -> 56x56\n",
    "    g2 = tf.image.resize_images(g2, [56, 56])\n",
    "    \n",
    "    # Final convolution with 1 output channel\n",
    "    g_w3 = tf.get_variable('g_w3', [1, 1, 25, 1], dtype=tf.float32, \n",
    "                           initializer=tf.truncated_normal_initializer(stddev=0.2))\n",
    "    g_b3 = tf.get_variable('g_b3', [1], dtype=tf.float32, initializer=tf.constant_initializer(0))\n",
    "    g3 = tf.nn.conv2d(g2, g_w3, strides=[1,2,2,1], padding='SAME')\n",
    "    g3 = g3 + g_b3\n",
    "    g3 = tf.sigmoid(g3)\n",
    "    \n",
    "    return g3"
   ]
  },
  {
   "cell_type": "markdown",
   "metadata": {},
   "source": [
    "## Computation Graph"
   ]
  },
  {
   "cell_type": "code",
   "execution_count": 127,
   "metadata": {},
   "outputs": [],
   "source": [
    "tf.reset_default_graph()\n",
    "U_placeholder = tf.placeholder(tf.float32, [None, 100])\n",
    "X_placeholder = tf.placeholder(tf.float32, [None, 28, 28, 1])\n",
    "\n",
    "with tf.variable_scope('gen_dis_scope'):\n",
    "    Gu = generator(U_placeholder)\n",
    "    Dx = discriminator(X_placeholder, reuse=False)\n",
    "    # reuse same variables as Dx discriminator\n",
    "    Dg = discriminator(Gu, reuse=True)"
   ]
  },
  {
   "cell_type": "code",
   "execution_count": 128,
   "metadata": {},
   "outputs": [
    {
     "data": {
      "image/png": "[encoded data removed]",
      "text/plain": [
       "<matplotlib.figure.Figure at 0x1216e2550>"
      ]
     },
     "metadata": {},
     "output_type": "display_data"
    }
   ],
   "source": [
    "# Lets view a generated image...\n",
    "with tf.Session() as sess:\n",
    "    sess.run(tf.global_variables_initializer())\n",
    "    U = np.random.normal(0, 1, [1, 100])\n",
    "    gen_img = sess.run(Gu, feed_dict = {U_placeholder: U})\n",
    "    gen_img = gen_img.reshape([28, 28])\n",
    "    plt.imshow(gen_img, cmap='Greys')"
   ]
  },
  {
   "cell_type": "code",
   "execution_count": 129,
   "metadata": {},
   "outputs": [],
   "source": [
    "# Loss functions\n",
    "d_loss_real = tf.reduce_mean(tf.nn.sigmoid_cross_entropy_with_logits(logits=Dx, labels=tf.ones_like(Dx)))\n",
    "d_loss_fake = tf.reduce_mean(tf.nn.sigmoid_cross_entropy_with_logits(logits=Dg, labels=tf.zeros_like(Dg)))\n",
    "g_loss = tf.reduce_mean(tf.nn.sigmoid_cross_entropy_with_logits(logits=Dg, labels=tf.ones_like(Dg)))"
   ]
  },
  {
   "cell_type": "code",
   "execution_count": 132,
   "metadata": {},
   "outputs": [
    {
     "name": "stdout",
     "output_type": "stream",
     "text": [
      "[<tf.Variable 'gen_dis_scope/d_w0:0' shape=(5, 5, 1, 32) dtype=float32_ref>, <tf.Variable 'gen_dis_scope/d_b0:0' shape=(32,) dtype=float32_ref>, <tf.Variable 'gen_dis_scope/d_w1:0' shape=(5, 5, 32, 64) dtype=float32_ref>, <tf.Variable 'gen_dis_scope/d_b1:0' shape=(64,) dtype=float32_ref>, <tf.Variable 'gen_dis_scope/d_w2:0' shape=(3136, 1024) dtype=float32_ref>, <tf.Variable 'gen_dis_scope/d_b2:0' shape=(1024,) dtype=float32_ref>, <tf.Variable 'gen_dis_scope/d_w3:0' shape=(1024, 1) dtype=float32_ref>, <tf.Variable 'gen_dis_scope/d_b3:0' shape=(1,) dtype=float32_ref>]\n",
      "[<tf.Variable 'gen_dis_scope/g_w0:0' shape=(100, 3136) dtype=float32_ref>, <tf.Variable 'gen_dis_scope/g_b0:0' shape=(3136,) dtype=float32_ref>, <tf.Variable 'gen_dis_scope/g_w1:0' shape=(3, 3, 1, 50) dtype=float32_ref>, <tf.Variable 'gen_dis_scope/g_b1:0' shape=(50,) dtype=float32_ref>, <tf.Variable 'gen_dis_scope/g_w2:0' shape=(3, 3, 50, 25) dtype=float32_ref>, <tf.Variable 'gen_dis_scope/g_b2:0' shape=(25,) dtype=float32_ref>, <tf.Variable 'gen_dis_scope/g_w3:0' shape=(1, 1, 25, 1) dtype=float32_ref>, <tf.Variable 'gen_dis_scope/g_b3:0' shape=(1,) dtype=float32_ref>]\n"
     ]
    }
   ],
   "source": [
    "# Optimizers\n",
    "trainable_vars = tf.trainable_variables()\n",
    "d_vars = [var for var in trainable_vars if 'd_' in var.name]\n",
    "g_vars = [var for var in trainable_vars if 'g_' in var.name]\n",
    "\n",
    "print d_vars\n",
    "print g_vars\n",
    "\n",
    "# be careful, AdamOptimizer creates its own vars for memory, and could play poorly with reuse \n",
    "# (https://stackoverflow.com/questions/42603702/variable-scope-causes-variable-does-not-exist-with-optimizer)\n",
    "d_optimizer = tf.train.AdamOptimizer(0.0003).minimize(d_loss_real + d_loss_fake, var_list=d_vars)\n",
    "g_optimizer = tf.train.AdamOptimizer(0.00008).minimize(g_loss, var_list=g_vars)"
   ]
  },
  {
   "cell_type": "code",
   "execution_count": 133,
   "metadata": {},
   "outputs": [
    {
     "name": "stdout",
     "output_type": "stream",
     "text": [
      "d:0 0.942208 0.42688\n",
      "d:20 7.47666e-07 7.14225e-05\n",
      "d:40 4.96985e-07 1.39211e-05\n",
      "d:60 7.31814e-08 5.74395e-06\n",
      "d:80 7.94868e-08 5.12393e-06\n",
      "d:100 9.6627e-08 3.82756e-06\n",
      "g:100 13.0512\n",
      "d:120 7.6018e-07 4.69128e-06\n",
      "g:120 13.0998\n",
      "d:140 1.89417e-06 2.44416e-06\n",
      "g:140 13.6091\n",
      "d:160 2.46129e-08 2.25877e-06\n",
      "g:160 13.3596\n",
      "d:180 2.45904e-08 1.63601e-06\n",
      "g:180 14.0473\n",
      "d:200 1.17404e-07 1.55329e-06\n",
      "g:200 13.6033\n",
      "d:220 1.86912e-07 1.21512e-06\n",
      "g:220 13.9415\n",
      "d:240 3.38502e-07 9.1503e-07\n",
      "g:240 14.1058\n",
      "d:260 6.40708e-08 9.907e-07\n",
      "g:260 14.3615\n",
      "d:280 2.77675e-07 5.8853e-07\n",
      "g:280 14.4211\n",
      "d:300 2.26748e-08 5.61966e-07\n",
      "g:300 14.903\n",
      "d:320 2.41905e-08 5.59639e-07\n",
      "g:320 14.6116\n",
      "d:340 6.32673e-09 5.54981e-07\n",
      "g:340 15.001\n",
      "d:360 3.74343e-09 5.52438e-07\n",
      "g:360 15.0402\n",
      "d:380 4.74868e-08 5.61399e-07\n",
      "g:380 15.4875\n",
      "d:400 2.64293e-09 4.95917e-07\n",
      "g:400 15.3218\n",
      "d:420 5.63335e-08 2.14645e-07\n",
      "g:420 15.3877\n",
      "d:440 1.23877e-08 2.41021e-07\n",
      "g:440 15.7966\n",
      "d:460 1.24676e-09 2.68803e-07\n",
      "g:460 15.8347\n",
      "d:480 1.6797e-08 2.05948e-07\n",
      "g:480 15.7787\n",
      "d:500 2.1779e-09 1.64264e-07\n",
      "g:500 15.5634\n",
      "d:520 4.35383e-08 1.85837e-07\n",
      "g:520 15.7271\n",
      "d:540 6.39137e-09 1.51636e-07\n",
      "g:540 15.7752\n",
      "d:560 3.69649e-09 1.83747e-07\n",
      "g:560 16.0209\n",
      "d:580 2.58872e-07 1.19057e-07\n",
      "g:580 16.2271\n",
      "d:600 2.96486e-09 1.61554e-07\n",
      "g:600 16.0542\n",
      "d:620 8.04703e-09 1.19799e-07\n",
      "g:620 16.462\n",
      "d:640 9.04694e-09 9.63114e-08\n",
      "g:640 16.5635\n",
      "d:660 3.11544e-10 1.63402e-07\n",
      "g:660 16.3399\n",
      "d:680 5.0304e-08 1.18229e-07\n",
      "g:680 16.4262\n",
      "d:700 2.06333e-09 1.15397e-07\n",
      "g:700 16.8348\n",
      "d:720 1.09039e-07 1.19702e-07\n",
      "g:720 16.5076\n",
      "d:740 5.75843e-10 7.73061e-08\n",
      "g:740 16.7464\n",
      "d:760 1.52852e-09 6.23312e-08\n",
      "g:760 16.9566\n",
      "d:780 1.17742e-09 7.86481e-08\n",
      "g:780 16.9114\n",
      "d:800 3.0698e-09 6.01212e-08\n",
      "g:800 16.7845\n",
      "d:820 4.30895e-10 7.40353e-08\n",
      "g:820 17.195\n",
      "d:840 1.53828e-09 5.95041e-08\n",
      "g:840 17.1719\n",
      "d:860 8.13769e-10 5.25222e-08\n",
      "g:860 17.1099\n",
      "d:880 7.83537e-10 1.48418e-07\n",
      "g:880 16.9411\n",
      "d:900 1.93815e-08 6.02554e-08\n",
      "g:900 17.1736\n",
      "d:920 1.66653e-09 3.53589e-08\n",
      "g:920 17.2988\n",
      "d:940 2.54034e-09 5.62947e-08\n",
      "g:940 17.361\n",
      "d:960 1.8607e-08 4.94776e-08\n",
      "g:960 17.1227\n",
      "d:980 5.65442e-09 2.8565e-08\n",
      "g:980 16.9731\n"
     ]
    },
    {
     "data": {
      "image/png": "[encoded data removed]",
      "text/plain": [
       "<matplotlib.figure.Figure at 0x1210a08d0>"
      ]
     },
     "metadata": {},
     "output_type": "display_data"
    }
   ],
   "source": [
    "batch_size = 16\n",
    "with tf.Session() as sess:\n",
    "    sess.run(tf.global_variables_initializer())\n",
    "    # Train discriminator a bit first.\n",
    "    for i in range(1000):\n",
    "        train_batch = mnist.train.next_batch(batch_size)\n",
    "        x_train_batch = train_batch[0].reshape([-1,28,28,1])\n",
    "        u_batch = np.random.normal(0, 1, [batch_size, 100])\n",
    "        if i >= 0:\n",
    "            _, d_loss_real_val, d_loss_fake_val = sess.run([d_optimizer, d_loss_real, d_loss_fake], \n",
    "                                                               feed_dict={X_placeholder: x_train_batch, U_placeholder: u_batch})\n",
    "            if i % 20 == 0: print 'd:%d' % i, d_loss_real_val, d_loss_fake_val\n",
    "        #print i, d_loss_fake_val\n",
    "        if i >= 100:\n",
    "            u_batch = np.random.normal(0, 1, [batch_size, 100])\n",
    "            g_loss_val = sess.run(g_loss, feed_dict={U_placeholder: u_batch})\n",
    "            if i % 20 == 0: print 'g:%d' % i, g_loss_val\n",
    "            # show img every 5\n",
    "            if i % 5 == 0:\n",
    "                gen_imgs = sess.run(Gu, feed_dict={U_placeholder: u_batch})\n",
    "                gen_img = gen_imgs[0].reshape([28,28])\n",
    "                plt.imshow(gen_img, cmap='Greys')\n",
    "        "
   ]
  }
 ],
 "metadata": {
  "kernelspec": {
   "display_name": "Python 2",
   "language": "python",
   "name": "python2"
  },
  "language_info": {
   "codemirror_mode": {
    "name": "ipython",
    "version": 2
   },
   "file_extension": ".py",
   "mimetype": "text/x-python",
   "name": "python",
   "nbconvert_exporter": "python",
   "pygments_lexer": "ipython2",
   "version": "2.7.13"
  }
 },
 "nbformat": 4,
 "nbformat_minor": 2
}
